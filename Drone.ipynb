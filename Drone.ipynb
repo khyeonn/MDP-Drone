{
 "cells": [
  {
   "cell_type": "code",
   "execution_count": 1,
   "metadata": {},
   "outputs": [],
   "source": [
    "using POMDPs\n",
    "using Plots\n",
    "using Random\n",
    "using LinearAlgebra\n",
    "using ElectronDisplay"
   ]
  },
  {
   "cell_type": "code",
   "execution_count": 2,
   "metadata": {},
   "outputs": [],
   "source": [
    "# Drone State Struct\n",
    "struct DroneState\n",
    "    x::Float64 \n",
    "    y::Float64\n",
    "    v::Float64\n",
    "    θ::Float64 # heading angle\n",
    "end\n",
    "### Drone Action Struct\n",
    "struct DroneAction  ###CHECK how to define a = -1:1 and Δθ = 0:2pi\n",
    "    a::Float64\n",
    "    Δθ::Float64 \n",
    "end\n",
    "### Obstacle and Target area Struct\n",
    "struct Circle\n",
    "    x::Float64\n",
    "    y::Float64\n",
    "    r::Float64\n",
    "end\n",
    "### Struct drone MDP\n",
    "mutable struct Dronemdp\n",
    "    size::Tuple{Float64, Float64} \n",
    "    drone::DroneState\n",
    "    target::Circle \n",
    "    max_velocity::Float64\n",
    "    max_acceleration::Float64\n",
    "    max_angle::Float64\n",
    "    discount::Float64\n",
    "    isterminal::Bool\n",
    "    obstacles::Vector{Circle}\n",
    "    initial_state::DroneState\n",
    "end;"
   ]
  },
  {
   "cell_type": "code",
   "execution_count": 3,
   "metadata": {},
   "outputs": [],
   "source": [
    "### generate random obstacles\n",
    "function generate_obstacles(size::Tuple{Float64, Float64}, num_obstacles::Int64, target::Circle)\n",
    "    obstacles = Vector{Circle}()\n",
    "    min_radius= 2.5\n",
    "    max_radius = 7.5\n",
    "    for _ in 1:num_obstacles\n",
    "        obstacle_x, obstacle_y = rand(1.0:size[1]), rand(1.0:size[2])\n",
    "        obstacle_r = rand(min_radius:max_radius)\n",
    "\n",
    "        ## if target and obstacle regions overlap, generate new obstacle\n",
    "        while norm([target.x, target.y].- [obstacle_x, obstacle_y]) < target.r + obstacle_r\n",
    "            obstacle_x, obstacle_y = rand(1.0:size[1]), rand(1.0:size[2])\n",
    "            obstacle_r = rand(min_radius:max_radius)\n",
    "        end\n",
    "\n",
    "        obstacle = Circle(obstacle_x, obstacle_y, obstacle_r)\n",
    "        push!(obstacles, obstacle)\n",
    "    end\n",
    "    return obstacles\n",
    "end;"
   ]
  },
  {
   "cell_type": "code",
   "execution_count": 4,
   "metadata": {},
   "outputs": [],
   "source": [
    "### mdpironment constructor\n",
    "function Dronemdp(;\n",
    "        size::Tuple{Float64, Float64}=(50.0,50.0),\n",
    "        drone::DroneState=DroneState(2.0, 2.0, 0.0, 0.0),\n",
    "        max_velocity::Float64=1.0,\n",
    "        max_acceleration::Float64=10.0,\n",
    "        max_angle::Float64=2*pi,\n",
    "        discount::Float64=0.99,\n",
    "        isterminal::Bool=false,\n",
    "        initial_state=DroneState(2.0, 2.0, 0.0, 0.0)\n",
    "        )\n",
    "    ## for testing purposes\n",
    "    Random.seed!(1);\n",
    "    ## set random target location\n",
    "    target = Circle(rand(1.0:size[1]), rand(1.0:size[2]), 5.0)\n",
    "    ## define random obstacles\n",
    "    obstacles = generate_obstacles(size, 10, target)\n",
    "    return Dronemdp(size, drone, target, max_velocity, max_acceleration, max_angle, discount, isterminal, obstacles, initial_state)\n",
    "end;"
   ]
  },
  {
   "cell_type": "code",
   "execution_count": 5,
   "metadata": {},
   "outputs": [],
   "source": [
    "### terminal condition handling\n",
    "function isterminal(mdp::Dronemdp)\n",
    "    distance_to_target = norm([mdp.drone.x, mdp.drone.y].- [mdp.target.x, mdp.target.y])\n",
    "    if distance_to_target <= mdp.target.r\n",
    "        return 1\n",
    "    end\n",
    "\n",
    "    for i in 1:length(mdp.obstacles)\n",
    "        distance_to_obstacle = norm([mdp.drone.x, mdp.drone.y].- [mdp.obstacles[i].x, mdp.obstacles[i].y])\n",
    "        if distance_to_obstacle <= mdp.obstacles[i].r\n",
    "            return 2\n",
    "        end\n",
    "    end\n",
    "\n",
    "    # check for out of bounds\n",
    "    if mdp.drone.x >= mdp.size[1] || mdp.drone.x <= 0 || mdp.drone.y >= mdp.size[2] || mdp.drone.y <= 0\n",
    "        return 3\n",
    "    end\n",
    "\n",
    "    return 0\n",
    "end;"
   ]
  },
  {
   "cell_type": "code",
   "execution_count": 6,
   "metadata": {},
   "outputs": [],
   "source": [
    "### transition function\n",
    "function POMDPs.transition(mdp::Dronemdp, action::DroneAction)\n",
    "    time_step = 1\n",
    "\n",
    "    x = mdp.drone.x\n",
    "    y = mdp.drone.y\n",
    "    v = mdp.drone.v\n",
    "    θ = mdp.drone.θ\n",
    "\n",
    "    a = action.a\n",
    "    Δθ = action.Δθ\n",
    "\n",
    "    v_new = clamp(v + a*time_step, -mdp.max_velocity, mdp.max_velocity)\n",
    "    θ_new = mod( θ + Δθ,mdp.max_angle)\n",
    "\n",
    "    x_new = x + v_new*cos(θ_new)\n",
    "    y_new = y + v_new*sin(θ_new)\n",
    "\n",
    "    mdp.drone = DroneState(x_new,y_new,v_new,θ_new)\n",
    "    if isterminal(mdp) != 0\n",
    "        mdp.isterminal = true\n",
    "    end\n",
    "    return mdp.drone\n",
    "end;"
   ]
  },
  {
   "cell_type": "code",
   "execution_count": 7,
   "metadata": {},
   "outputs": [],
   "source": [
    "### reward function\n",
    "function POMDPs.reward(mdp::Dronemdp,action::DroneAction)\n",
    "    if isterminal(mdp) == 1\n",
    "        return 100.0\n",
    "    elseif isterminal(mdp) == 2\n",
    "        return -1000.0\n",
    "    elseif isterminal(mdp) == 3\n",
    "        return -1000.0\n",
    "    else\n",
    "        return -1\n",
    "    end\n",
    "end;"
   ]
  },
  {
   "cell_type": "code",
   "execution_count": 8,
   "metadata": {},
   "outputs": [],
   "source": [
    "### discount\n",
    "POMDPs.discount(mdp::Dronemdp) = mdp.discount;"
   ]
  },
  {
   "cell_type": "code",
   "execution_count": 9,
   "metadata": {},
   "outputs": [],
   "source": [
    "### generate next state sp, and reward r \n",
    "function POMDPs.gen(mdp::Dronemdp, action::DroneAction)\n",
    "    sp = POMDPs.transition(mdp, action)\n",
    "    r = POMDPs.reward(mdp,action)\n",
    "\n",
    "    return sp, r\n",
    "end;"
   ]
  },
  {
   "cell_type": "code",
   "execution_count": 10,
   "metadata": {},
   "outputs": [],
   "source": [
    "### reset mdp\n",
    "function reset!(mdp::Dronemdp)\n",
    "    mdp.drone = mdp.initial_state\n",
    "    mdp.isterminal = false\n",
    "end;"
   ]
  },
  {
   "cell_type": "code",
   "execution_count": 11,
   "metadata": {},
   "outputs": [],
   "source": [
    "### generate target manually\n",
    "function set_target!(mdp::Dronemdp, target::Circle)\n",
    "    mdp.target = target\n",
    "end;"
   ]
  },
  {
   "cell_type": "code",
   "execution_count": 12,
   "metadata": {},
   "outputs": [],
   "source": [
    "### Generate points for the circle\n",
    "function plot_circle(x, y, r, fill_color=:none)\n",
    "    theta = LinRange(0, 2π, 100)  # Angle range from 0 to 2π\n",
    "    circle_x = x .+ r * cos.(theta)\n",
    "    circle_y = y .+ r * sin.(theta)\n",
    "    return plot!(circle_x, circle_y, aspect_ratio=1, legend=false, fillalpha=0.7, fillopacity=0.7, fill=true, fillcolor=fill_color)\n",
    "end\n",
    "### Render MDP \n",
    "function render(mdp::Dronemdp; show=true, t=nothing)\n",
    "    p = plot(size=(500, 500), xlim=(-2, mdp.size[1]+2), ylim=(-2, mdp.size[2]+2), legend=false)\n",
    "    xticks!(0:5:mdp.size[1]+1)\n",
    "    yticks!(0:5:mdp.size[2]+1)\n",
    "    for (i, obs) in enumerate(mdp.obstacles)\n",
    "        plot_circle(obs.x, obs.y, obs.r,:red)\n",
    "    end\n",
    "    plot_circle(mdp.target.x, mdp.target.y, mdp.target.r,:green)\n",
    "    quiver!([mdp.drone.x], [mdp.drone.y], quiver=[(1*cos(mdp.drone.θ), 1*sin(mdp.drone.θ))], color=:blue, arrow=true, linewidth=2)\n",
    "    \n",
    "    plot!([0.5, 0.5], [0.5, 50.5], color=:black, linewidth=2)  # (0.5,0.5) to (0.5,10.5)\n",
    "    plot!([0.5, 50.5], [0.5, 0.5], color=:black, linewidth=2)  # (0.5,0.5) to (10.5,0.5)\n",
    "    plot!([0.5, 50.5], [50.5, 50.5], color=:black, linewidth=2)  # (0.5,10.5) to (10.5,10.5)\n",
    "    plot!([50.5, 50.5], [50.5, 0.5], color=:black, linewidth=2)  # (10.5,10.5) to (10.5,0.5)\n",
    "\n",
    "    if !isnothing(t)\n",
    "        annotate!(mdp.size[1]/2, mdp.size[2]-2, text(\"t=$t\", :center, 12))\n",
    "    end\n",
    "\n",
    "    if show\n",
    "        display(p)\n",
    "    end\n",
    "end\n",
    "### Create animation\n",
    "function create_animation(batch_mdp::Vector{Dronemdp})\n",
    "    anim = @animate for i in eachindex(batch_mdp)\n",
    "        render(batch_mdp[i], show=false, t=i)\n",
    "    end\n",
    "\n",
    "    return anim\n",
    "end;\n"
   ]
  },
  {
   "cell_type": "code",
   "execution_count": 13,
   "metadata": {},
   "outputs": [
    {
     "name": "stderr",
     "output_type": "stream",
     "text": [
      "2024-05-12 20:59:49.055 Julia[37569:4893354] WARNING: Secure coding is not enabled for restorable state! Enable secure coding by implementing NSApplicationDelegate.applicationSupportsSecureRestorableState: and returning YES.\n",
      "objc[37570]: Class WebSwapCGLLayer is implemented in both /System/Library/Frameworks/WebKit.framework/Versions/A/Frameworks/WebCore.framework/Versions/A/Frameworks/libANGLE-shared.dylib (0x2767fa270) and /Users/andres/.julia/artifacts/12f3018147190ddc494f686e5fbefe8d84f16efb/Julia.app/Contents/Frameworks/Electron Framework.framework/Versions/A/Libraries/libGLESv2.dylib (0x115871348). One of the two will be used. Which one is undefined.\n"
     ]
    },
    {
     "data": {
      "text/plain": [
       "Electron.Window(Application(Base.PipeEndpoint(RawFD(22) paused, 0 bytes waiting), Process(setenv(`\u001b[4m/Users/andres/.julia/artifacts/12f3018147190ddc494f686e5fbefe8d84f16efb/Julia.app/Contents/MacOS/Julia\u001b[24m \u001b[4m/Users/andres/.julia/packages/Electron/pOy6n/src/main.js\u001b[24m \u001b[4m/var/folders/sd/nt82b1_d3wddjl49jw1dx5rr0000gn/T/jlel-18bc77c010c411ef3cb86d7f0cccdb17\u001b[24m \u001b[4m/var/folders/sd/nt82b1_d3wddjl49jw1dx5rr0000gn/T/jlel-sn-18bc7c4610c411ef17de651e1cfc907a\u001b[24m \u001b[4m4yKEqWFgB3bNRW3CbMqQ1MtpEmZgw7iSKxMuzz9NNy1lSqZ4UGZsHfVmhwhvhVHJCVm4HTRGgeQi34HHQES3c7BrzZrx0kf10VX97UnOSzBubgOoUECpR+yLeDJtzrHXraNJcl1biaVUmbAph++cGfPfBeTrsz+Sd95PhievW8c=\u001b[24m`,[\"XPC_FLAGS=0x0\", \"PATH=/Users/andres/anaconda3/bin:/Users/andres/anaconda3/condabin:/Users/andres/.juliaup/bin:/usr/local/bin:/System/Cryptexes/App/usr/bin:/usr/bin:/bin:/usr/sbin:/sbin:/var/run/com.apple.security.cryptexd/codex.system/bootstrap/usr/local/bin:/var/run/com.apple.security.cryptexd/codex.system/bootstrap/usr/bin:/var/run/com.apple.security.cryptexd/codex.system/bootstrap/usr/appleinternal/bin:/Library/Apple/usr/bin:/Library/TeX/texbin\", \"VSCODE_CODE_CACHE_PATH=/Users/andres/Library/Application Support/Code/CachedData/dc96b837cf6bb4af9cd736aa3af08cf8279f7685\", \"XPC_SERVICE_NAME=application.com.microsoft.VSCode.17027581.17027587\", \"VSCODE_NLS_CONFIG={\\\"locale\\\":\\\"en-us\\\",\\\"osLocale\\\":\\\"en-us\\\",\\\"availableLanguages\\\":{},\\\"_languagePackSupport\\\":true}\", \"CONDA_PYTHON_EXE=/Users/andres/anaconda3/bin/python\", \"DYLD_FALLBACK_LIBRARY_PATH=/Users/andres/.julia/artifacts/5902919ba30b97bafa388ca950a351ea32516d26/lib:/Users/andres/.julia/artifacts/92b949e2f3a66439c69a8d334fc95810fbd9df9b/lib:/Users/andres/.julia/artifacts/5b338c8fa90c05e6faea86e54d2996cca76cfbbe/lib:/Users/andres/.julia/juliaup/julia-1.10.2+0.aarch64.apple.darwin14/lib/julia:/Users/andres/.julia/artifacts/0b234a64c0574e6156c740b15844963c0555164e/lib:/Users/andres/.julia/artifacts/9410bad2635eda2239b4a72ba4316c4aa8f5b76e/lib:/Users/andres/.julia/artifacts/a7cf2895cac9b6bec2c94e6490ca337e00b12894/lib:/Users/andres/.julia/artifacts/10b2b258c07d7a76b2e3331f1ed70d8a8eb6d71c/lib:/Users/andres/.julia/artifacts/9a76a401f82e0e3cafce618fb8d2d5c307ab2836/lib:/Users/andres/.julia/artifacts/e8b17d4e8df51de281bf55f890ba48f924e41ce3/lib:/Users/andres/.julia/artifacts/c65e07e3da4f1bf519bc432389dbbd61df320457/lib:/Users/andres/.julia/artifacts/4ec62d729213a748d2300dd0832ebe8ed2292093/lib:/Users/andres/.julia/artifacts/e6b9fb44029423f5cd69e0cbbff25abcc4b32a8f/lib:/Users/andres/.julia/artifacts/fb8b9a86c16889fbeb669622623a954bb773fce8/lib:/Users/andres/.julia/artifacts/df3881e810714d6a09467fe85a6fde79385fe702/lib:/Users/andres/.julia/artifacts/3b3d0bcaf14a9b239a4f4dc20ef7b9e63030a47e/lib:/Users/andres/.julia/artifacts/abf161ac3d4df76ae74bbf5432b7e061b3876236/lib:/Users/andres/.julia/artifacts/4260cf51a368d8e305a5de3669e32539e1e6cc72/lib:/Users/andres/.julia/artifacts/fc7ba632b72ce7d852c1924aa2bbfe244a71c780/lib:/Users/andres/.julia/artifacts/413111420faa4e2aeaa383c075eaa213402d939c/lib:/Users/andres/.julia/artifacts/ca2831bf6edc5088aec5b329ea98364951d6cad0/lib:/Users/andres/.julia/artifacts/3fe6bf926e57cc4be598151cd40832221de2e894/lib:/Users/andres/.julia/artifacts/c325a23bc1f6521474cef5f634f18c8ab311bb02/lib:/Users/andres/.julia/artifacts/0db9c3f6cf936a0da49e2ba954ba3e10bed6ad72/lib:/Users/andres/.julia/artifacts/1a7e22e66b523d9cb884cf85c3ec065b5fb3e5c3/lib:/Users/andres/.julia/artifacts/91d16d8e67cf04eb9240c5d28f057b567e2b8dab/lib:/Users/andres/.julia/artifacts/4609432e7098d8434a7a4c7876dd5b9e09b2a5e7/lib:/Users/andres/.julia/artifacts/6095fcd268ea712c0f786f5ff1a45bf0eb7b005e/lib:/Users/andres/.julia/artifacts/8dfccc7f1aa9d156f12a6e7db599014b805b11f2/lib:/Users/andres/.julia/artifacts/13ab26d7214d6ea78e7839477d2262c18b38b450/lib:/Users/andres/.julia/artifacts/b450526929615030746974fd622effa333c2c87a/lib:/Users/andres/.julia/artifacts/fb653fdc268e50c0be4391f6ca2f2fce2be7f15b/lib:/Users/andres/.julia/artifacts/3908ba61f3e144a7e7e28b9d676ca770f2f6a955/lib:/Users/andres/.julia/artifacts/2107e7bc404f11b178cb9724cb371ef704995727/lib:/Users/andres/.julia/artifacts/4b3b2d79556cc3aef6e3d8a234649cc85b91bb87/lib:/Users/andres/.julia/artifacts/dc1fe71ef939802ae7490350407bea0f47e5be5f/lib/QtConcurrent.framework/Versions/A:/Users/andres/.julia/artifacts/dc1fe71ef939802ae7490350407bea0f47e5be5f/lib/QtCore.framework/Versions/A:/Users/andres/.julia/artifacts/dc1fe71ef939802ae7490350407bea0f47e5be5f/lib/QtDBus.framework/Versions/A:/Users/andres/.julia/artifacts/dc1fe71ef939802ae7490350407bea0f47e5be5f/lib/QtGui.framework/Versions/A:/Users/andres/.julia/artifacts/dc1fe71ef939802ae7490350407bea0f47e5be5f/lib/QtNetwork.framework/Versions/A:/Users/andres/.julia/artifacts/dc1fe71ef939802ae7490350407bea0f47e5be5f/lib/QtOpenGL.framework/Versions/A:/Users/andres/.julia/artifacts/dc1fe71ef939802ae7490350407bea0f47e5be5f/lib/QtPrintSupport.framework/Versions/A:/Users/andres/.julia/artifacts/dc1fe71ef939802ae7490350407bea0f47e5be5f/lib/QtSql.framework/Versions/A:/Users/andres/.julia/artifacts/dc1fe71ef939802ae7490350407bea0f47e5be5f/lib/QtTest.framework/Versions/A:/Users/andres/.julia/artifacts/dc1fe71ef939802ae7490350407bea0f47e5be5f/lib/QtWidgets.framework/Versions/A:/Users/andres/.julia/artifacts/dc1fe71ef939802ae7490350407bea0f47e5be5f/lib/QtXml.framework/Versions/A:/Users/andres/.julia/artifacts/2711a7295dd2796d38718436686a5cdfe32d1d1c/lib:/Users/andres/.julia/juliaup/julia-1.10.2+0.aarch64.apple.darwin14/bin/../lib/julia:/Users/andres/.julia/juliaup/julia-1.10.2+0.aarch64.apple.darwin14/bin/../lib:\", \"GKS_ENCODING=utf8\", \"__CF_USER_TEXT_ENCODING=0x1F5:0x0:0x0\", \"VSCODE_PID=36598\"  …  \"NVM_DIR=/Users/andres/.nvm\", \"ORIGINAL_XDG_CURRENT_DESKTOP=undefined\", \"FONTCONFIG_PATH=/Users/andres/.julia/artifacts/e6b9fb44029423f5cd69e0cbbff25abcc4b32a8f/etc/fonts\", \"CONDA_PREFIX=/Users/andres/anaconda3\", \"LaunchInstanceID=183FFD21-05FD-4F94-9027-95C27BE50516\", \"MallocNanoZone=0\", \"CONDA_SHLVL=1\", \"CONDA_EXE=/Users/andres/anaconda3/bin/conda\", \"HOME=/Users/andres\", \"OPENBLAS_MAIN_FREE=1\"]), ProcessRunning), [1 window]), 1, true, Channel{Any}(128))"
      ]
     },
     "metadata": {},
     "output_type": "display_data"
    }
   ],
   "source": [
    "mdp = Dronemdp()\n",
    "mdp.drone = DroneState(25,25,0,pi)\n",
    "render(mdp)"
   ]
  },
  {
   "cell_type": "code",
   "execution_count": 14,
   "metadata": {},
   "outputs": [
    {
     "name": "stdout",
     "output_type": "stream",
     "text": [
      "a = DroneAction(rand(-10:10), rand(-2pi:2pi)) = DroneAction(-5.0, -3.2831853071795862)\n",
      "a = DroneAction(rand(-10:10), rand(-2pi:2pi)) = DroneAction(9.0, 5.716814692820414)\n",
      "a = DroneAction(rand(-10:10), rand(-2pi:2pi)) = DroneAction(6.0, -6.283185307179586)\n",
      "a = DroneAction(rand(-10:10), rand(-2pi:2pi)) = DroneAction(-2.0, 2.7168146928204138)\n",
      "a = DroneAction(rand(-10:10), rand(-2pi:2pi)) = DroneAction(7.0, -6.283185307179586)\n",
      "a = DroneAction(rand(-10:10), rand(-2pi:2pi)) = DroneAction(7.0, 5.716814692820414)\n",
      "a = DroneAction(rand(-10:10), rand(-2pi:2pi)) = DroneAction(6.0, -2.2831853071795862)\n",
      "a = DroneAction(rand(-10:10), rand(-2pi:2pi)) = DroneAction(0.0, -3.2831853071795862)\n",
      "a = DroneAction(rand(-10:10), rand(-2pi:2pi)) = DroneAction(-4.0, -6.283185307179586)\n",
      "a = DroneAction(rand(-10:10), rand(-2pi:2pi)) = DroneAction(5.0, -2.2831853071795862)\n",
      "a = DroneAction(rand(-10:10), rand(-2pi:2pi)) = DroneAction(8.0, -3.2831853071795862)\n",
      "a = DroneAction(rand(-10:10), rand(-2pi:2pi)) = DroneAction(-2.0, -0.28318530717958623)\n",
      "a = DroneAction(rand(-10:10), rand(-2pi:2pi)) = DroneAction(-3.0, 4.716814692820414)\n",
      "a = DroneAction(rand(-10:10), rand(-2pi:2pi)) = DroneAction(4.0, 3.7168146928204138)\n",
      "a = DroneAction(rand(-10:10), rand(-2pi:2pi)) = DroneAction(9.0, -1.2831853071795862)\n",
      "a = DroneAction(rand(-10:10), rand(-2pi:2pi)) = DroneAction(10.0, 3.7168146928204138)\n",
      "a = DroneAction(rand(-10:10), rand(-2pi:2pi)) = DroneAction(10.0, -4.283185307179586)\n",
      "a = DroneAction(rand(-10:10), rand(-2pi:2pi)) = DroneAction(5.0, -3.2831853071795862)\n",
      "a = DroneAction(rand(-10:10), rand(-2pi:2pi)) = DroneAction(-9.0, -2.2831853071795862)\n",
      "a = DroneAction(rand(-10:10), rand(-2pi:2pi)) = DroneAction(3.0, 4.716814692820414)\n",
      "a = DroneAction(rand(-10:10), rand(-2pi:2pi)) = DroneAction(10.0, 3.7168146928204138)\n",
      "a = DroneAction(rand(-10:10), rand(-2pi:2pi)) = DroneAction(-10.0, -6.283185307179586)\n",
      "a = DroneAction(rand(-10:10), rand(-2pi:2pi)) = DroneAction(3.0, 0.7168146928204138)\n",
      "a = DroneAction(rand(-10:10), rand(-2pi:2pi)) = DroneAction(-1.0, 1.7168146928204138)\n",
      "a = DroneAction(rand(-10:10), rand(-2pi:2pi)) = DroneAction(-7.0, -5.283185307179586)\n",
      "a = DroneAction(rand(-10:10), rand(-2pi:2pi)) = DroneAction(-2.0, -2.2831853071795862)\n",
      "a = DroneAction(rand(-10:10), rand(-2pi:2pi)) = DroneAction(-4.0, 3.7168146928204138)\n",
      "a = DroneAction(rand(-10:10), rand(-2pi:2pi)) = DroneAction(8.0, -4.283185307179586)\n",
      "a = DroneAction(rand(-10:10), rand(-2pi:2pi)) = DroneAction(6.0, 1.7168146928204138)\n",
      "a = DroneAction(rand(-10:10), rand(-2pi:2pi)) = DroneAction(1.0, 1.7168146928204138)\n",
      "a = DroneAction(rand(-10:10), rand(-2pi:2pi)) = DroneAction(-3.0, 5.716814692820414)\n",
      "a = DroneAction(rand(-10:10), rand(-2pi:2pi)) = DroneAction(-10.0, 3.7168146928204138)\n",
      "a = DroneAction(rand(-10:10), rand(-2pi:2pi)) = DroneAction(-8.0, 3.7168146928204138)\n",
      "a = DroneAction(rand(-10:10), rand(-2pi:2pi)) = DroneAction(2.0, -4.283185307179586)\n",
      "a = DroneAction(rand(-10:10), rand(-2pi:2pi)) = DroneAction(1.0, -5.283185307179586)\n",
      "a = DroneAction(rand(-10:10), rand(-2pi:2pi)) = DroneAction(9.0, 1.7168146928204138)\n",
      "a = DroneAction(rand(-10:10), rand(-2pi:2pi)) = DroneAction(-5.0, -0.28318530717958623)\n",
      "a = DroneAction(rand(-10:10), rand(-2pi:2pi)) = DroneAction(4.0, 2.7168146928204138)\n",
      "a = DroneAction(rand(-10:10), rand(-2pi:2pi)) = DroneAction(-7.0, -6.283185307179586)\n",
      "a = DroneAction(rand(-10:10), rand(-2pi:2pi)) = DroneAction(3.0, -0.28318530717958623)\n",
      "a = DroneAction(rand(-10:10), rand(-2pi:2pi)) = DroneAction(-2.0, 3.7168146928204138)\n",
      "a = DroneAction(rand(-10:10), rand(-2pi:2pi)) = DroneAction(-8.0, 5.716814692820414)\n",
      "a = DroneAction(rand(-10:10), rand(-2pi:2pi)) = DroneAction(5.0, 3.7168146928204138)\n",
      "a = DroneAction(rand(-10:10), rand(-2pi:2pi)) = DroneAction(-8.0, -1.2831853071795862)\n",
      "a = DroneAction(rand(-10:10), rand(-2pi:2pi)) = DroneAction(-3.0, -4.283185307179586)\n",
      "a = DroneAction(rand(-10:10), rand(-2pi:2pi)) = DroneAction(-4.0, 5.716814692820414)\n",
      "a = DroneAction(rand(-10:10), rand(-2pi:2pi)) = DroneAction(5.0, -3.2831853071795862)\n",
      "a = DroneAction(rand(-10:10), rand(-2pi:2pi)) = DroneAction(8.0, 4.716814692820414)\n",
      "a = DroneAction(rand(-10:10), rand(-2pi:2pi)) = DroneAction(3.0, -4.283185307179586)\n",
      "a = DroneAction(rand(-10:10), rand(-2pi:2pi)) = DroneAction(5.0, -6.283185307179586)\n",
      "a = DroneAction(rand(-10:10), rand(-2pi:2pi)) = DroneAction(9.0, -3.2831853071795862)\n",
      "a = DroneAction(rand(-10:10), rand(-2pi:2pi)) = DroneAction(2.0, 0.7168146928204138)\n",
      "a = DroneAction(rand(-10:10), rand(-2pi:2pi)) = DroneAction(-7.0, -6.283185307179586)\n",
      "a = DroneAction(rand(-10:10), rand(-2pi:2pi)) = DroneAction(-8.0, 0.7168146928204138)\n",
      "a = DroneAction(rand(-10:10), rand(-2pi:2pi)) = DroneAction(7.0, 0.7168146928204138)\n",
      "a = DroneAction(rand(-10:10), rand(-2pi:2pi)) = DroneAction(9.0, -5.283185307179586)\n",
      "a = DroneAction(rand(-10:10), rand(-2pi:2pi)) = DroneAction(-5.0, 0.7168146928204138)\n",
      "a = DroneAction(rand(-10:10), rand(-2pi:2pi)) = DroneAction(4.0, 5.716814692820414)\n",
      "a = DroneAction(rand(-10:10), rand(-2pi:2pi)) = DroneAction(8.0, -1.2831853071795862)\n",
      "a = DroneAction(rand(-10:10), rand(-2pi:2pi)) = DroneAction(-7.0, 0.7168146928204138)\n",
      "a = DroneAction(rand(-10:10), rand(-2pi:2pi)) = DroneAction(1.0, -3.2831853071795862)\n",
      "a = DroneAction(rand(-10:10), rand(-2pi:2pi)) = DroneAction(7.0, 5.716814692820414)\n",
      "a = DroneAction(rand(-10:10), rand(-2pi:2pi)) = DroneAction(-10.0, 5.716814692820414)\n",
      "a = DroneAction(rand(-10:10), rand(-2pi:2pi)) = DroneAction(10.0, 5.716814692820414)\n",
      "a = DroneAction(rand(-10:10), rand(-2pi:2pi)) = DroneAction(8.0, -1.2831853071795862)\n",
      "a = DroneAction(rand(-10:10), rand(-2pi:2pi)) = DroneAction(-5.0, -2.2831853071795862)\n",
      "a = DroneAction(rand(-10:10), rand(-2pi:2pi)) = DroneAction(-3.0, 4.716814692820414)\n"
     ]
    }
   ],
   "source": [
    "for i in 1:100\n",
    "    if mdp.isterminal\n",
    "        break\n",
    "    end\n",
    "    sleep(0.5)\n",
    "    @show a = DroneAction(rand(-10:10),rand(-2*pi:2*pi))\n",
    "    gen(mdp,a)\n",
    "    render(mdp)\n",
    "end"
   ]
  }
 ],
 "metadata": {
  "kernelspec": {
   "display_name": "Julia 1.10.2",
   "language": "julia",
   "name": "julia-1.10"
  },
  "language_info": {
   "file_extension": ".jl",
   "mimetype": "application/julia",
   "name": "julia",
   "version": "1.10.2"
  }
 },
 "nbformat": 4,
 "nbformat_minor": 2
}
