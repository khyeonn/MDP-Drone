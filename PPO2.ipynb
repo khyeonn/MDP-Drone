{
 "cells": [
  {
   "cell_type": "code",
   "execution_count": 1,
   "metadata": {},
   "outputs": [],
   "source": [
    "include(\"Drone2.jl\")\n",
    "using .Drone2: DroneMDP, DroneAct, DroneState, render, gen, isterminal, reset!, act!\n",
    "using StaticArrays\n",
    "using LinearAlgebra\n",
    "using Statistics\n",
    "using Random\n",
    "using Distributions: Normal, logpdf\n",
    "using Flux\n",
    "using Flux: params, gradient, update!, gradient, Optimise, Adam, mse\n",
    "using ElectronDisplay"
   ]
  },
  {
   "cell_type": "markdown",
   "metadata": {},
   "source": [
    "### PPO"
   ]
  },
  {
   "cell_type": "markdown",
   "metadata": {},
   "source": [
    "#### Feed Forward NN"
   ]
  },
  {
   "cell_type": "code",
   "execution_count": 2,
   "metadata": {},
   "outputs": [
    {
     "data": {
      "text/plain": [
       "ActorCritic"
      ]
     },
     "metadata": {},
     "output_type": "display_data"
    }
   ],
   "source": [
    "\n",
    "struct ActorCritic\n",
    "    actor::Chain\n",
    "    critic::Chain\n",
    "end\n",
    "\n",
    "function ActorCritic(state_size::Int, action_size::Int)\n",
    "    actor = Chain(\n",
    "        Dense(state_size, 64, sigmoid),\n",
    "        Dense(64, action_size * 2),\n",
    "        x -> [x[1],x[2], softplus.(x[3]),softplus.(x[4])]\n",
    "    )\n",
    "\n",
    "    critic = Chain(\n",
    "        Dense(state_size, 64, sigmoid),\n",
    "        Dense(64, 1)\n",
    "    )\n",
    "\n",
    "    return ActorCritic(actor, critic)\n",
    "end"
   ]
  },
  {
   "cell_type": "code",
   "execution_count": 3,
   "metadata": {},
   "outputs": [
    {
     "data": {
      "text/plain": [
       "forward (generic function with 1 method)"
      ]
     },
     "metadata": {},
     "output_type": "display_data"
    }
   ],
   "source": [
    "function forward(ac::ActorCritic, states)\n",
    "    if isa(states, DroneState)\n",
    "        states = [states]\n",
    "    end\n",
    "    results = fill([zeros(2), zeros(2)], length(states))\n",
    "    values = zeros(length(states), 1)\n",
    "    for i in 1:length(states)\n",
    "        actor_out = ac.actor(states[i])  \n",
    "        value = ac.critic(states[i])[1]\n",
    "        action_mean = [actor_out[1]; actor_out[2]]\n",
    "        action_std = [actor_out[3]; actor_out[4]]\n",
    "        results[i] = [action_mean, action_std]\n",
    "        values[i] = value\n",
    "    end\n",
    "    return results, values\n",
    "end "
   ]
  },
  {
   "cell_type": "code",
   "execution_count": 4,
   "metadata": {},
   "outputs": [
    {
     "ename": "Base.Meta.ParseError",
     "evalue": "ParseError:\n# Error @ /Users/andres/Documents/UMD/Spring 2024/ENAE 788Z/Project/MDP-Drone/PPO2.ipynb:23:4\n\nend\n#  └ ── Expected `end`",
     "output_type": "error",
     "traceback": [
      "ParseError:\n",
      "# Error @ /Users/andres/Documents/UMD/Spring 2024/ENAE 788Z/Project/MDP-Drone/PPO2.ipynb:23:4\n",
      "\n",
      "end\n",
      "#  └ ── Expected `end`\n",
      "\n",
      "Stacktrace:\n",
      " [1] top-level scope\n",
      "   @ ~/Documents/UMD/Spring 2024/ENAE 788Z/Project/MDP-Drone/PPO2.ipynb:23"
     ]
    }
   ],
   "source": [
    "function learn(ac::ActorCritic,m::DroneMDP, total_timesteps::Int64,time_steps_per_batch::Int64, max_timesteps_per_episode::Int64, n_updates_per_iteration::Int64,clip=0.2 )\n",
    "    t_so_far = 0\n",
    "    while t_so_far < total_timesteps\n",
    "        batch_states, batch_actions, batch_log_probs, batch_rtgs, batch_lens = rollout(ac, m, time_steps_per_batch, max_timesteps_per_episode)\n",
    "        \n",
    "        V,_ = evaluate(ac, batch_states, batch_actions)\n",
    "\n",
    "        A_k = advantage(batch_rtgs, V)\n",
    "        for _ in 1:n_updates_per_iteration\n",
    "            # Epoch code\n",
    "            actor_loss_fn(ac,batch_states,batch_actions,batch_log_probs,A_k,clip)\n",
    "\n",
    "\n",
    "            actor_opt = Adam(lr)\n",
    "            actor_gs = gradient(() -> actor_loss )\n",
    "            update!(Adam(0.005), params(ac.actor), actor_gs)\n",
    "\n",
    "            critic_opt = Adam(lr)\n",
    "            critic_gs = gradient(() -> critic_loss_fn(ppo_network, batch_obs, batch_rtgo), params(ppo_network.critic.model))\n",
    "            update!(critic_opt, params(ppo_network.critic.model), critic_gs)\n",
    "\n",
    "\n",
    "end"
   ]
  },
  {
   "cell_type": "code",
   "execution_count": 5,
   "metadata": {},
   "outputs": [
    {
     "data": {
      "text/plain": [
       "actor_loss_fn (generic function with 1 method)"
      ]
     },
     "metadata": {},
     "output_type": "display_data"
    }
   ],
   "source": [
    "function actor_loss_fn(batch_states,batch_actions,batch_log_probs)\n",
    "    _,curr_log_probs = evaluate(ac, batch_states, batch_actions)\n",
    "    ratios = exp.(curr_log_probs-batch_log_probs)\n",
    "    surr1 = ratios.*A_k\n",
    "    surr2 = clamp.(ratios,1-clip,1+clip).*A_k\n",
    "    actor_loss = mean(-min(surr1,surr2))\n",
    "    return actor_loss\n",
    "end"
   ]
  },
  {
   "cell_type": "code",
   "execution_count": 6,
   "metadata": {},
   "outputs": [],
   "source": [
    "function rollout(ac::ActorCritic, m::DroneMDP, time_steps_per_batch::Int64, max_timesteps_per_episode::Int64)\n",
    "    batch_states = []\n",
    "    batch_actions = []\n",
    "    batch_log_probs =[]\n",
    "    batch_rews = []\n",
    "    batch_lens = []\n",
    "\n",
    "    t = 0\n",
    "    while t < time_steps_per_batch\n",
    "        ep_rews =[]\n",
    "        s = reset!(m)\n",
    "        done = false\n",
    "        ep_t_temp = 0\n",
    "        for ep_t in 1:max_timesteps_per_episode\n",
    "            t += 1\n",
    "            push!(batch_states,s)\n",
    "            action, log_prob = get_action(ac::ActorCritic, m::DroneMDP)\n",
    "            s, rew, done = act!(m,action)\n",
    "            render(m)\n",
    "            push!(ep_rews,rew)\n",
    "            push!(batch_actions,action)\n",
    "            push!(batch_log_probs,log_prob)\n",
    "            ep_t_temp =ep_t\n",
    "            if done\n",
    "                break\n",
    "            end\n",
    "        end\n",
    "        push!(batch_lens,ep_t_temp+1)\n",
    "        push!(batch_rews,ep_rews)\n",
    "    end\n",
    "\n",
    "    batch_rtgs = rewards2go(m,batch_rews)\n",
    "    \n",
    "    return   batch_states, batch_actions, batch_log_probs, batch_rtgs, batch_lens\n",
    "end;"
   ]
  },
  {
   "cell_type": "code",
   "execution_count": 7,
   "metadata": {},
   "outputs": [
    {
     "data": {
      "text/plain": [
       "get_action (generic function with 1 method)"
      ]
     },
     "metadata": {},
     "output_type": "display_data"
    }
   ],
   "source": [
    "function get_action(ac::ActorCritic, m::DroneMDP)\n",
    "    result = forward(ac, m.drone)\n",
    "    action_mean = result[1][1][1] \n",
    "    action_std = result[1][1][2]\n",
    "    params = rand.(Normal.(action_mean, action_std))\n",
    "    v = clamp(params[1], -m.v_max, m.v_max)\n",
    "    omega = clamp(params[2], -m.om_max, m.om_max)\n",
    "    action = DroneAct(v,omega)\n",
    "    log_prob = sum(logpdf.(Normal.(action_mean, action_std), action))\n",
    "    return action, log_prob\n",
    "end"
   ]
  },
  {
   "cell_type": "code",
   "execution_count": 8,
   "metadata": {},
   "outputs": [
    {
     "data": {
      "text/plain": [
       "rewards2go (generic function with 1 method)"
      ]
     },
     "metadata": {},
     "output_type": "display_data"
    }
   ],
   "source": [
    "function rewards2go(m::DroneMDP, batch_rews)\n",
    "    batch_rtg = []\n",
    "    for ep_rews in reverse(batch_rews)\n",
    "        discounted_reward = 0\n",
    "        for rew in  reverse(ep_rews)\n",
    "            discounted_reward = rew + m.discount*discounted_reward\n",
    "            pushfirst!(batch_rtg,discounted_reward)\n",
    "        end\n",
    "    end\n",
    "    return  batch_rtg\n",
    "end\n"
   ]
  },
  {
   "cell_type": "code",
   "execution_count": 9,
   "metadata": {},
   "outputs": [
    {
     "data": {
      "text/plain": [
       "evaluate (generic function with 1 method)"
      ]
     },
     "metadata": {},
     "output_type": "display_data"
    }
   ],
   "source": [
    "# function evaluate(ac::ActorCritic, batch_states, batch_actions)\n",
    "#    # Compute V\n",
    "#    V = [ac.critic(state)[1] for state in batch_states]\n",
    "\n",
    "#    # Compute log_probs\n",
    "#    log_probs = [0.0 for _ in 1:length(batch_states)]\n",
    "#    for i in 1:length(batch_states)\n",
    "#        result = forward(ac, batch_states[i])\n",
    "#        action_mean = result[1][1][1] \n",
    "#        action_std = result[1][1][2]\n",
    "#        log_probs[i] = sum(logpdf.(Normal.(action_mean, action_std), batch_actions[i]))\n",
    "#    end\n",
    "\n",
    "#    return V, log_probs\n",
    "# end\n",
    "\n",
    "function evaluate(ac::ActorCritic, batch_states, batch_actions)\n",
    "    # Compute V\n",
    "    V = [ac.critic(state)[1] for state in batch_states]\n",
    " \n",
    "    # Compute log_probs\n",
    "    log_probs = Float64[]\n",
    "    for i in 1:length(batch_states)\n",
    "        result = forward(ac, batch_states[i])\n",
    "        action_mean = result[1][1][1] \n",
    "        action_std = result[1][1][2]\n",
    "        v = Normal(action_mean[1], action_std[1])\n",
    "        om = Normal(action_mean[2], action_std[2])\n",
    "        push!(log_probs, logpdf(v, batch_actions[i][1]) + logpdf(om, batch_actions[i][2]))\n",
    "    end\n",
    " \n",
    "    return V, log_probs\n",
    "end"
   ]
  },
  {
   "cell_type": "code",
   "execution_count": 10,
   "metadata": {},
   "outputs": [
    {
     "data": {
      "text/plain": [
       "advantage (generic function with 1 method)"
      ]
     },
     "metadata": {},
     "output_type": "display_data"
    }
   ],
   "source": [
    "function advantage(batch_rtgs, V)\n",
    "    A = batch_rtgs-V\n",
    "    return normalize(A)\n",
    "end"
   ]
  },
  {
   "cell_type": "code",
   "execution_count": 11,
   "metadata": {},
   "outputs": [
    {
     "data": {
      "text/plain": [
       "0.02"
      ]
     },
     "metadata": {},
     "output_type": "display_data"
    }
   ],
   "source": [
    "ac = ActorCritic(3,2)\n",
    "m = DroneMDP()\n",
    "clip = 0.02"
   ]
  },
  {
   "cell_type": "code",
   "execution_count": 12,
   "metadata": {},
   "outputs": [
    {
     "name": "stderr",
     "output_type": "stream",
     "text": [
      "2024-05-14 18:40:27.329 Julia[4684:97323] WARNING: Secure coding is not enabled for restorable state! Enable secure coding by implementing NSApplicationDelegate.applicationSupportsSecureRestorableState: and returning YES.\n",
      "objc[4685]: Class WebSwapCGLLayer is implemented in both /System/Library/Frameworks/WebKit.framework/Versions/A/Frameworks/WebCore.framework/Versions/A/Frameworks/libANGLE-shared.dylib (0x25e232270) and /Users/andres/.julia/artifacts/12f3018147190ddc494f686e5fbefe8d84f16efb/Julia.app/Contents/Frameworks/Electron Framework.framework/Versions/A/Libraries/libGLESv2.dylib (0x117071348). One of the two will be used. Which one is undefined.\n"
     ]
    },
    {
     "data": {
      "text/plain": [
       "(Any[Float32[25.0, 25.0, 0.0], Float32[24.969805, 24.983505, 0.5], Float32[24.828938, 24.764118, 1.0], Float32[24.826172, 24.725117, 1.5], Float32[24.862434, 24.645884, 2.0], Float32[24.87662, 24.635288, 2.5], Float32[24.871964, 24.635952, 3.0], Float32[24.979961, 24.676407, 3.5], Float32[25.079311, 24.791437, 4.0], Float32[25.146011, 25.10075, 4.5]  …  Float32[23.635872, 28.321894, 1.1702712], Float32[23.660135, 28.078781, 1.6702712], Float32[23.81212, 27.856373, 2.1702712], Float32[24.065924, 27.727028, 2.6702712], Float32[24.204824, 27.731012, 3.1702712], Float32[24.341633, 27.756327, 3.3245606], Float32[24.47638, 27.865953, 3.8245606], Float32[24.62398, 27.958414, 3.7012196], Float32[24.6836, 28.064707, 4.2012196], Float32[24.686981, 28.367535, 4.7012196]], Any[Float32[-0.068813615, 1.0], Float32[-0.521437, 1.0], Float32[-0.07819696, 1.0], Float32[-0.17427537, 1.0], Float32[-0.035409898, 1.0], Float32[0.009405222, 1.0], Float32[-0.23065285, 1.0], Float32[-0.30398887, 1.0], Float32[-0.632845, 1.0], Float32[-1.0150979, 1.0]  …  Float32[-0.4886419, 1.0], Float32[-0.5387581, 1.0], Float32[-0.569723, 1.0], Float32[-0.2779162, 1.0], Float32[-0.27826104, 0.3085792], Float32[-0.34741542, 1.0], Float32[-0.34833667, -0.24668214], Float32[-0.243743, 1.0], Float32[-0.60569435, 1.0], Float32[-0.37762105, 1.0]], Any[-0.5834650077627384, -2.471322216369064, -0.7926299317720522, -0.5964840795778634, -1.4236030822988173, -2.079467773590744, -0.75010534949838, -0.6605195372688003, -1.4403408952655299, -5.646691790330117  …  -1.1675660105953853, -1.3605123215750778, -1.4273864347106657, -0.569386079487068, -1.4088410974355756, -0.5203651159550802, -2.205107788416422, -0.9750065665975989, -0.9465265700829595, -0.7090022069271651], Any[-22.981504f0, -23.138426f0, -23.303606f0, -23.47748f0, -23.660505f0, -23.853163f0, -24.055962f0, -24.269434f0, -24.49414f0, -24.730675f0  …  -638.2746f0, -670.81537f0, -705.0688f0, -741.12506f0, -779.07904f0, -819.0306f0, -861.08484f0, -905.3525f0, -951.95f0, -1001.0f0], Any[115])"
      ]
     },
     "metadata": {},
     "output_type": "display_data"
    }
   ],
   "source": [
    "batch_states, batch_actions, batch_log_probs, batch_rtgs, batch_lens = rollout(ac, m, 100, 1000)"
   ]
  },
  {
   "cell_type": "code",
   "execution_count": 13,
   "metadata": {},
   "outputs": [
    {
     "data": {
      "text/plain": [
       "0.05862566503990246"
      ]
     },
     "metadata": {},
     "output_type": "display_data"
    }
   ],
   "source": [
    "V,_ = evaluate(ac, batch_states, batch_actions)\n",
    "A_k = advantage(batch_rtgs, V)\n",
    "actor_loss_fn(batch_states,batch_actions,batch_log_probs)"
   ]
  },
  {
   "cell_type": "code",
   "execution_count": 14,
   "metadata": {},
   "outputs": [
    {
     "data": {
      "text/plain": [
       "log_prob (generic function with 1 method)"
      ]
     },
     "metadata": {},
     "output_type": "display_data"
    }
   ],
   "source": [
    "function log_prob(mean, std, state)\n",
    "    dist = Normal(mean, std)\n",
    "    return logpdf(dist, state)\n",
    "end"
   ]
  },
  {
   "cell_type": "code",
   "execution_count": 15,
   "metadata": {},
   "outputs": [
    {
     "ename": "ErrorException",
     "evalue": "Mutating arrays is not supported -- called push!(Vector{Float64}, ...)\nThis error occurs when you ask Zygote to differentiate operations that change\nthe elements of arrays in place (e.g. setting values with x .= ...)\n\nPossible fixes:\n- avoid mutating operations (preferred)\n- or read the documentation and solutions for this error\n  https://fluxml.ai/Zygote.jl/latest/limitations\n",
     "output_type": "error",
     "traceback": [
      "Mutating arrays is not supported -- called push!(Vector{Float64}, ...)\n",
      "This error occurs when you ask Zygote to differentiate operations that change\n",
      "the elements of arrays in place (e.g. setting values with x .= ...)\n",
      "\n",
      "Possible fixes:\n",
      "- avoid mutating operations (preferred)\n",
      "- or read the documentation and solutions for this error\n",
      "  https://fluxml.ai/Zygote.jl/latest/limitations\n",
      "\n",
      "\n",
      "Stacktrace:\n",
      "  [1] error(s::String)\n",
      "    @ Base ./error.jl:35\n",
      "  [2] _throw_mutation_error(f::Function, args::Vector{Float64})\n",
      "    @ Zygote ~/.julia/packages/Zygote/nsBv0/src/lib/array.jl:70\n",
      "  [3] (::Zygote.var\"#547#548\"{Vector{Float64}})(::Nothing)\n",
      "    @ Zygote ~/.julia/packages/Zygote/nsBv0/src/lib/array.jl:89\n",
      "  [4] (::Zygote.var\"#2643#back#549\"{Zygote.var\"#547#548\"{Vector{Float64}}})(Δ::Nothing)\n",
      "    @ Zygote ~/.julia/packages/ZygoteRules/M4xmc/src/adjoint.jl:72\n",
      "  [5] evaluate\n",
      "    @ ~/Documents/UMD/Spring 2024/ENAE 788Z/Project/MDP-Drone/PPO2.ipynb:29 [inlined]\n",
      "  [6] (::Zygote.Pullback{Tuple{typeof(evaluate), ActorCritic, Vector{Any}, Vector{Any}}, Any})(Δ::Tuple{Nothing, Vector{Float64}})\n",
      "    @ Zygote ~/.julia/packages/Zygote/nsBv0/src/compiler/interface2.jl:0\n",
      "  [7] actor_loss_fn\n",
      "    @ ~/Documents/UMD/Spring 2024/ENAE 788Z/Project/MDP-Drone/PPO2.ipynb:2 [inlined]\n",
      "  [8] (::Zygote.Pullback{Tuple{typeof(actor_loss_fn), Vector{Any}, Vector{Any}, Vector{Any}}, Tuple{Zygote.var\"#3796#back#1207\"{Zygote.var\"#1203#1206\"{Vector{Float64}, Vector{Float32}}}, Zygote.Pullback{Tuple{typeof(evaluate), ActorCritic, Vector{Any}, Vector{Any}}, Any}, Zygote.var\"#3599#back#1092\"{Zygote.var\"#1088#1091\"}, Zygote.ZBack{ChainRules.var\"#-_pullback#1330\"{Int64, Bool, ChainRulesCore.ProjectTo{Float64, @NamedTuple{}}, ChainRulesCore.ProjectTo{Float64, @NamedTuple{}}}}, Zygote.ZBack{Zygote.var\"#plus_pullback#345\"{Tuple{Int64, Float64}}}, Zygote.Pullback{Tuple{typeof(Base.Broadcast.materialize), Vector{Float64}}, Tuple{}}, Zygote.Pullback{Tuple{typeof(Base.Broadcast.broadcasted), typeof(clamp), Vector{Float64}, Float64, Float64}, Tuple{Zygote.var\"#2169#back#293\"{Zygote.var\"#291#292\"{Tuple{NTuple{4, Nothing}, Tuple{Nothing}}, Zygote.var\"#4117#back#1362\"{Zygote.var\"#bc_fwd_back#1400\"{Vector{ForwardDiff.Dual{Nothing, Float64, 3}}, Tuple{Vector{Float64}, Float64, Float64}, Val{3}}}}}, Zygote.var\"#2013#back#204\"{typeof(identity)}, Zygote.var\"#2845#back#673\"{Zygote.var\"#map_back#667\"{typeof(Base.Broadcast.broadcastable), 1, Tuple{Tuple{Float64}}, Tuple{Val{1}}, Tuple{Tuple{Float64, Zygote.Pullback{Tuple{typeof(Base.Broadcast.broadcastable), Float64}, Tuple{}}}}}}, Zygote.var\"#2013#back#204\"{typeof(identity)}, Zygote.Pullback{Tuple{typeof(Base.Broadcast.broadcastable), Vector{Float64}}, Tuple{}}, Zygote.var\"#2169#back#293\"{Zygote.var\"#291#292\"{Tuple{Tuple{Nothing, Nothing}, Tuple{Nothing}}, Zygote.var\"#combine_styles_pullback#1168\"{NTuple{4, Nothing}}}}, Zygote.Pullback{Tuple{typeof(Base.Broadcast.broadcastable), Float64}, Tuple{}}}}, Zygote.var\"#2029#back#213\"{Zygote.var\"#back#211\"{2, 2, Zygote.Context{true}, Int64}}, Zygote.var\"#1986#back#194\"{Zygote.var\"#190#193\"{Zygote.Context{true}, GlobalRef, Vector{Float32}}}, Zygote.ZBack{ChainRules.var\"#mean_pullback#1832\"{Int64, ChainRules.var\"#sum_pullback#1644\"{Colon, Vector{Float64}, ChainRulesCore.ProjectTo{AbstractArray, @NamedTuple{element::ChainRulesCore.ProjectTo{Float64, @NamedTuple{}}, axes::Tuple{Base.OneTo{Int64}}}}}}}, Zygote.var\"#1986#back#194\"{Zygote.var\"#190#193\"{Zygote.Context{true}, GlobalRef, Float64}}, Zygote.var\"#1986#back#194\"{Zygote.var\"#190#193\"{Zygote.Context{true}, GlobalRef, Float64}}, Zygote.Pullback{Tuple{typeof(Base.Broadcast.materialize), Vector{Float64}}, Tuple{}}, Zygote.var\"#back#245\"{Zygote.var\"#2029#back#213\"{Zygote.var\"#back#211\"{2, 1, Zygote.Context{true}, Vector{Float32}}}}, Zygote.var\"#2029#back#213\"{Zygote.var\"#back#211\"{2, 1, Zygote.Context{true}, Vector{Float32}}}, Zygote.Pullback{Tuple{typeof(min), Vector{Float64}, Vector{Float64}}, Tuple{Zygote.ZBack{ChainRules.var\"#isless_pullback#609\"}, Zygote.var\"#1938#back#169\"{Zygote.var\"#165#168\"{Bool}}}}, Zygote.Pullback{Tuple{typeof(Base.Broadcast.materialize), Vector{Float64}}, Tuple{}}, Zygote.var\"#1986#back#194\"{Zygote.var\"#190#193\"{Zygote.Context{true}, GlobalRef, ActorCritic}}, Zygote.var\"#2029#back#213\"{Zygote.var\"#back#211\"{2, 1, Zygote.Context{true}, Vector{Float64}}}, Zygote.var\"#1986#back#194\"{Zygote.var\"#190#193\"{Zygote.Context{true}, GlobalRef, Vector{Float32}}}, Zygote.var\"#3796#back#1207\"{Zygote.var\"#1203#1206\"{Vector{Float64}, Vector{Float32}}}, Zygote.var\"#3615#back#1100\"{Zygote.var\"#1096#1099\"}, Zygote.Pullback{Tuple{typeof(Base.Broadcast.broadcasted), typeof(exp), Vector{Float64}}, Tuple{Zygote.Pullback{Tuple{typeof(Base.Broadcast.broadcastable), Vector{Float64}}, Tuple{}}, Zygote.var\"#2169#back#293\"{Zygote.var\"#291#292\"{Tuple{Tuple{Nothing, Nothing, Nothing}, Tuple{}}, Zygote.var\"#4117#back#1362\"{Zygote.var\"#bc_fwd_back#1400\"{Vector{ForwardDiff.Dual{Nothing, Float64, 1}}, Tuple{Vector{Float64}}, Val{1}}}}}, Zygote.var\"#2013#back#204\"{typeof(identity)}, Zygote.var\"#2169#back#293\"{Zygote.var\"#291#292\"{Tuple{Tuple{Nothing}, Tuple{}}, Zygote.var\"#combine_styles_pullback#1168\"{Tuple{Nothing, Nothing}}}}, Zygote.var\"#2845#back#673\"{Zygote.var\"#map_back#667\"{typeof(Base.Broadcast.broadcastable), 1, Tuple{Tuple{}}, Tuple{Val{0}}, Tuple{}}}, Zygote.var\"#2013#back#204\"{typeof(identity)}}}, Zygote.var\"#back#246\"{Zygote.var\"#2029#back#213\"{Zygote.var\"#back#211\"{2, 2, Zygote.Context{true}, Vector{Float64}}}}}})(Δ::Float64)\n",
      "    @ Zygote ~/.julia/packages/Zygote/nsBv0/src/compiler/interface2.jl:0\n",
      "  [9] #13\n",
      "    @ ~/Documents/UMD/Spring 2024/ENAE 788Z/Project/MDP-Drone/PPO2.ipynb:1 [inlined]\n",
      " [10] (::Zygote.Pullback{Tuple{var\"#13#14\"}, Tuple{Zygote.var\"#1986#back#194\"{Zygote.var\"#190#193\"{Zygote.Context{true}, GlobalRef, Vector{Any}}}, Zygote.var\"#1986#back#194\"{Zygote.var\"#190#193\"{Zygote.Context{true}, GlobalRef, Vector{Any}}}, Zygote.var\"#1986#back#194\"{Zygote.var\"#190#193\"{Zygote.Context{true}, GlobalRef, Vector{Any}}}, Zygote.Pullback{Tuple{typeof(actor_loss_fn), Vector{Any}, Vector{Any}, Vector{Any}}, Tuple{Zygote.var\"#3796#back#1207\"{Zygote.var\"#1203#1206\"{Vector{Float64}, Vector{Float32}}}, Zygote.Pullback{Tuple{typeof(evaluate), ActorCritic, Vector{Any}, Vector{Any}}, Any}, Zygote.var\"#3599#back#1092\"{Zygote.var\"#1088#1091\"}, Zygote.ZBack{ChainRules.var\"#-_pullback#1330\"{Int64, Bool, ChainRulesCore.ProjectTo{Float64, @NamedTuple{}}, ChainRulesCore.ProjectTo{Float64, @NamedTuple{}}}}, Zygote.ZBack{Zygote.var\"#plus_pullback#345\"{Tuple{Int64, Float64}}}, Zygote.Pullback{Tuple{typeof(Base.Broadcast.materialize), Vector{Float64}}, Tuple{}}, Zygote.Pullback{Tuple{typeof(Base.Broadcast.broadcasted), typeof(clamp), Vector{Float64}, Float64, Float64}, Tuple{Zygote.var\"#2169#back#293\"{Zygote.var\"#291#292\"{Tuple{NTuple{4, Nothing}, Tuple{Nothing}}, Zygote.var\"#4117#back#1362\"{Zygote.var\"#bc_fwd_back#1400\"{Vector{ForwardDiff.Dual{Nothing, Float64, 3}}, Tuple{Vector{Float64}, Float64, Float64}, Val{3}}}}}, Zygote.var\"#2013#back#204\"{typeof(identity)}, Zygote.var\"#2845#back#673\"{Zygote.var\"#map_back#667\"{typeof(Base.Broadcast.broadcastable), 1, Tuple{Tuple{Float64}}, Tuple{Val{1}}, Tuple{Tuple{Float64, Zygote.Pullback{Tuple{typeof(Base.Broadcast.broadcastable), Float64}, Tuple{}}}}}}, Zygote.var\"#2013#back#204\"{typeof(identity)}, Zygote.Pullback{Tuple{typeof(Base.Broadcast.broadcastable), Vector{Float64}}, Tuple{}}, Zygote.var\"#2169#back#293\"{Zygote.var\"#291#292\"{Tuple{Tuple{Nothing, Nothing}, Tuple{Nothing}}, Zygote.var\"#combine_styles_pullback#1168\"{NTuple{4, Nothing}}}}, Zygote.Pullback{Tuple{typeof(Base.Broadcast.broadcastable), Float64}, Tuple{}}}}, Zygote.var\"#2029#back#213\"{Zygote.var\"#back#211\"{2, 2, Zygote.Context{true}, Int64}}, Zygote.var\"#1986#back#194\"{Zygote.var\"#190#193\"{Zygote.Context{true}, GlobalRef, Vector{Float32}}}, Zygote.ZBack{ChainRules.var\"#mean_pullback#1832\"{Int64, ChainRules.var\"#sum_pullback#1644\"{Colon, Vector{Float64}, ChainRulesCore.ProjectTo{AbstractArray, @NamedTuple{element::ChainRulesCore.ProjectTo{Float64, @NamedTuple{}}, axes::Tuple{Base.OneTo{Int64}}}}}}}, Zygote.var\"#1986#back#194\"{Zygote.var\"#190#193\"{Zygote.Context{true}, GlobalRef, Float64}}, Zygote.var\"#1986#back#194\"{Zygote.var\"#190#193\"{Zygote.Context{true}, GlobalRef, Float64}}, Zygote.Pullback{Tuple{typeof(Base.Broadcast.materialize), Vector{Float64}}, Tuple{}}, Zygote.var\"#back#245\"{Zygote.var\"#2029#back#213\"{Zygote.var\"#back#211\"{2, 1, Zygote.Context{true}, Vector{Float32}}}}, Zygote.var\"#2029#back#213\"{Zygote.var\"#back#211\"{2, 1, Zygote.Context{true}, Vector{Float32}}}, Zygote.Pullback{Tuple{typeof(min), Vector{Float64}, Vector{Float64}}, Tuple{Zygote.ZBack{ChainRules.var\"#isless_pullback#609\"}, Zygote.var\"#1938#back#169\"{Zygote.var\"#165#168\"{Bool}}}}, Zygote.Pullback{Tuple{typeof(Base.Broadcast.materialize), Vector{Float64}}, Tuple{}}, Zygote.var\"#1986#back#194\"{Zygote.var\"#190#193\"{Zygote.Context{true}, GlobalRef, ActorCritic}}, Zygote.var\"#2029#back#213\"{Zygote.var\"#back#211\"{2, 1, Zygote.Context{true}, Vector{Float64}}}, Zygote.var\"#1986#back#194\"{Zygote.var\"#190#193\"{Zygote.Context{true}, GlobalRef, Vector{Float32}}}, Zygote.var\"#3796#back#1207\"{Zygote.var\"#1203#1206\"{Vector{Float64}, Vector{Float32}}}, Zygote.var\"#3615#back#1100\"{Zygote.var\"#1096#1099\"}, Zygote.Pullback{Tuple{typeof(Base.Broadcast.broadcasted), typeof(exp), Vector{Float64}}, Tuple{Zygote.Pullback{Tuple{typeof(Base.Broadcast.broadcastable), Vector{Float64}}, Tuple{}}, Zygote.var\"#2169#back#293\"{Zygote.var\"#291#292\"{Tuple{Tuple{Nothing, Nothing, Nothing}, Tuple{}}, Zygote.var\"#4117#back#1362\"{Zygote.var\"#bc_fwd_back#1400\"{Vector{ForwardDiff.Dual{Nothing, Float64, 1}}, Tuple{Vector{Float64}}, Val{1}}}}}, Zygote.var\"#2013#back#204\"{typeof(identity)}, Zygote.var\"#2169#back#293\"{Zygote.var\"#291#292\"{Tuple{Tuple{Nothing}, Tuple{}}, Zygote.var\"#combine_styles_pullback#1168\"{Tuple{Nothing, Nothing}}}}, Zygote.var\"#2845#back#673\"{Zygote.var\"#map_back#667\"{typeof(Base.Broadcast.broadcastable), 1, Tuple{Tuple{}}, Tuple{Val{0}}, Tuple{}}}, Zygote.var\"#2013#back#204\"{typeof(identity)}}}, Zygote.var\"#back#246\"{Zygote.var\"#2029#back#213\"{Zygote.var\"#back#211\"{2, 2, Zygote.Context{true}, Vector{Float64}}}}}}}})(Δ::Float64)\n",
      "    @ Zygote ~/.julia/packages/Zygote/nsBv0/src/compiler/interface2.jl:0\n",
      " [11] (::Zygote.var\"#122#123\"{Zygote.Params{Zygote.Buffer{Any, Vector{Any}}}, Zygote.Pullback{Tuple{var\"#13#14\"}, Tuple{Zygote.var\"#1986#back#194\"{Zygote.var\"#190#193\"{Zygote.Context{true}, GlobalRef, Vector{Any}}}, Zygote.var\"#1986#back#194\"{Zygote.var\"#190#193\"{Zygote.Context{true}, GlobalRef, Vector{Any}}}, Zygote.var\"#1986#back#194\"{Zygote.var\"#190#193\"{Zygote.Context{true}, GlobalRef, Vector{Any}}}, Zygote.Pullback{Tuple{typeof(actor_loss_fn), Vector{Any}, Vector{Any}, Vector{Any}}, Tuple{Zygote.var\"#3796#back#1207\"{Zygote.var\"#1203#1206\"{Vector{Float64}, Vector{Float32}}}, Zygote.Pullback{Tuple{typeof(evaluate), ActorCritic, Vector{Any}, Vector{Any}}, Any}, Zygote.var\"#3599#back#1092\"{Zygote.var\"#1088#1091\"}, Zygote.ZBack{ChainRules.var\"#-_pullback#1330\"{Int64, Bool, ChainRulesCore.ProjectTo{Float64, @NamedTuple{}}, ChainRulesCore.ProjectTo{Float64, @NamedTuple{}}}}, Zygote.ZBack{Zygote.var\"#plus_pullback#345\"{Tuple{Int64, Float64}}}, Zygote.Pullback{Tuple{typeof(Base.Broadcast.materialize), Vector{Float64}}, Tuple{}}, Zygote.Pullback{Tuple{typeof(Base.Broadcast.broadcasted), typeof(clamp), Vector{Float64}, Float64, Float64}, Tuple{Zygote.var\"#2169#back#293\"{Zygote.var\"#291#292\"{Tuple{NTuple{4, Nothing}, Tuple{Nothing}}, Zygote.var\"#4117#back#1362\"{Zygote.var\"#bc_fwd_back#1400\"{Vector{ForwardDiff.Dual{Nothing, Float64, 3}}, Tuple{Vector{Float64}, Float64, Float64}, Val{3}}}}}, Zygote.var\"#2013#back#204\"{typeof(identity)}, Zygote.var\"#2845#back#673\"{Zygote.var\"#map_back#667\"{typeof(Base.Broadcast.broadcastable), 1, Tuple{Tuple{Float64}}, Tuple{Val{1}}, Tuple{Tuple{Float64, Zygote.Pullback{Tuple{typeof(Base.Broadcast.broadcastable), Float64}, Tuple{}}}}}}, Zygote.var\"#2013#back#204\"{typeof(identity)}, Zygote.Pullback{Tuple{typeof(Base.Broadcast.broadcastable), Vector{Float64}}, Tuple{}}, Zygote.var\"#2169#back#293\"{Zygote.var\"#291#292\"{Tuple{Tuple{Nothing, Nothing}, Tuple{Nothing}}, Zygote.var\"#combine_styles_pullback#1168\"{NTuple{4, Nothing}}}}, Zygote.Pullback{Tuple{typeof(Base.Broadcast.broadcastable), Float64}, Tuple{}}}}, Zygote.var\"#2029#back#213\"{Zygote.var\"#back#211\"{2, 2, Zygote.Context{true}, Int64}}, Zygote.var\"#1986#back#194\"{Zygote.var\"#190#193\"{Zygote.Context{true}, GlobalRef, Vector{Float32}}}, Zygote.ZBack{ChainRules.var\"#mean_pullback#1832\"{Int64, ChainRules.var\"#sum_pullback#1644\"{Colon, Vector{Float64}, ChainRulesCore.ProjectTo{AbstractArray, @NamedTuple{element::ChainRulesCore.ProjectTo{Float64, @NamedTuple{}}, axes::Tuple{Base.OneTo{Int64}}}}}}}, Zygote.var\"#1986#back#194\"{Zygote.var\"#190#193\"{Zygote.Context{true}, GlobalRef, Float64}}, Zygote.var\"#1986#back#194\"{Zygote.var\"#190#193\"{Zygote.Context{true}, GlobalRef, Float64}}, Zygote.Pullback{Tuple{typeof(Base.Broadcast.materialize), Vector{Float64}}, Tuple{}}, Zygote.var\"#back#245\"{Zygote.var\"#2029#back#213\"{Zygote.var\"#back#211\"{2, 1, Zygote.Context{true}, Vector{Float32}}}}, Zygote.var\"#2029#back#213\"{Zygote.var\"#back#211\"{2, 1, Zygote.Context{true}, Vector{Float32}}}, Zygote.Pullback{Tuple{typeof(min), Vector{Float64}, Vector{Float64}}, Tuple{Zygote.ZBack{ChainRules.var\"#isless_pullback#609\"}, Zygote.var\"#1938#back#169\"{Zygote.var\"#165#168\"{Bool}}}}, Zygote.Pullback{Tuple{typeof(Base.Broadcast.materialize), Vector{Float64}}, Tuple{}}, Zygote.var\"#1986#back#194\"{Zygote.var\"#190#193\"{Zygote.Context{true}, GlobalRef, ActorCritic}}, Zygote.var\"#2029#back#213\"{Zygote.var\"#back#211\"{2, 1, Zygote.Context{true}, Vector{Float64}}}, Zygote.var\"#1986#back#194\"{Zygote.var\"#190#193\"{Zygote.Context{true}, GlobalRef, Vector{Float32}}}, Zygote.var\"#3796#back#1207\"{Zygote.var\"#1203#1206\"{Vector{Float64}, Vector{Float32}}}, Zygote.var\"#3615#back#1100\"{Zygote.var\"#1096#1099\"}, Zygote.Pullback{Tuple{typeof(Base.Broadcast.broadcasted), typeof(exp), Vector{Float64}}, Tuple{Zygote.Pullback{Tuple{typeof(Base.Broadcast.broadcastable), Vector{Float64}}, Tuple{}}, Zygote.var\"#2169#back#293\"{Zygote.var\"#291#292\"{Tuple{Tuple{Nothing, Nothing, Nothing}, Tuple{}}, Zygote.var\"#4117#back#1362\"{Zygote.var\"#bc_fwd_back#1400\"{Vector{ForwardDiff.Dual{Nothing, Float64, 1}}, Tuple{Vector{Float64}}, Val{1}}}}}, Zygote.var\"#2013#back#204\"{typeof(identity)}, Zygote.var\"#2169#back#293\"{Zygote.var\"#291#292\"{Tuple{Tuple{Nothing}, Tuple{}}, Zygote.var\"#combine_styles_pullback#1168\"{Tuple{Nothing, Nothing}}}}, Zygote.var\"#2845#back#673\"{Zygote.var\"#map_back#667\"{typeof(Base.Broadcast.broadcastable), 1, Tuple{Tuple{}}, Tuple{Val{0}}, Tuple{}}}, Zygote.var\"#2013#back#204\"{typeof(identity)}}}, Zygote.var\"#back#246\"{Zygote.var\"#2029#back#213\"{Zygote.var\"#back#211\"{2, 2, Zygote.Context{true}, Vector{Float64}}}}}}}}, Zygote.Context{true}})(Δ::Float64)\n",
      "    @ Zygote ~/.julia/packages/Zygote/nsBv0/src/compiler/interface.jl:470\n",
      " [12] gradient(f::Function, args::Zygote.Params{Zygote.Buffer{Any, Vector{Any}}})\n",
      "    @ Zygote ~/.julia/packages/Zygote/nsBv0/src/compiler/interface.jl:148\n",
      " [13] top-level scope\n",
      "    @ ~/Documents/UMD/Spring 2024/ENAE 788Z/Project/MDP-Drone/PPO2.ipynb:1"
     ]
    }
   ],
   "source": [
    "actor_gs = gradient(() -> actor_loss_fn(batch_states,batch_actions,batch_log_probs), params(ac.actor))\n",
    "update!(actor_opt, params(ac.actor), actor_gs)\n"
   ]
  }
 ],
 "metadata": {
  "kernelspec": {
   "display_name": "Julia 1.10.3",
   "language": "julia",
   "name": "julia-1.10"
  },
  "language_info": {
   "file_extension": ".jl",
   "mimetype": "application/julia",
   "name": "julia",
   "version": "1.10.3"
  }
 },
 "nbformat": 4,
 "nbformat_minor": 2
}
